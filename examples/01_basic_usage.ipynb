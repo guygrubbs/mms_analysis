{
 "cells": [
  {
   "cell_type": "markdown",
   "metadata": {},
   "source": [
    "# MMS Magnetopause Analysis - Basic Usage\n",
    "\n",
    "This notebook demonstrates the basic usage of the MMS Magnetopause Analysis Toolkit.\n",
    "\n",
    "## Overview\n",
    "\n",
    "We'll analyze a magnetopause crossing event from January 27, 2019, showing:\n",
    "1. Data loading from CDAWeb\n",
    "2. Coordinate transformations\n",
    "3. Boundary detection\n",
    "4. Basic visualization"
   ]
  },
  {
   "cell_type": "code",
   "execution_count": null,
   "metadata": {},
   "outputs": [],
   "source": [
    "# Import required libraries\n",
    "import numpy as np\n",
    "import matplotlib.pyplot as plt\n",
    "from datetime import datetime\n",
    "\n",
    "# Import MMS-MP toolkit\n",
    "import mms_mp\n",
    "\n",
    "# Configure matplotlib for inline plots\n",
    "%matplotlib inline\n",
    "plt.style.use('default')\n",
    "\n",
    "print(f\"MMS-MP version: {mms_mp.__version__}\")"
   ]
  },
  {
   "cell_type": "markdown",
   "metadata": {},
   "source": [
    "## 1. Configuration\n",
    "\n",
    "Set up the analysis parameters:"
   ]
  },
  {
   "cell_type": "code",
   "execution_count": null,
   "metadata": {},
   "outputs": [],
   "source": [
    "# Analysis configuration\n",
    "trange = ['2019-01-27/12:20:00', '2019-01-27/12:40:00']\n",
    "probes = ['1', '2']  # Start with just 2 spacecraft for simplicity\n",
    "cadence = '150ms'\n",
    "\n",
    "print(f\"Time range: {trange[0]} to {trange[1]}\")\n",
    "print(f\"Spacecraft: MMS{', MMS'.join(probes)}\")\n",
    "print(f\"Cadence: {cadence}\")"
   ]
  },
  {
   "cell_type": "markdown",
   "metadata": {},
   "source": [
    "## 2. Data Loading\n",
    "\n",
    "Load MMS data from CDAWeb. This may take a few minutes on first run as data is downloaded and cached."
   ]
  },
  {
   "cell_type": "code",
   "execution_count": null,
   "metadata": {},
   "outputs": [],
   "source": [
    "# Load MMS data\n",
    "print(\"Loading MMS data...\")\n",
    "evt = mms_mp.load_event(\n",
    "    trange, \n",
    "    probes=probes,\n",
    "    include_edp=False,  # Skip electric field for simplicity\n",
    "    include_ephem=True\n",
    ")\n",
    "print(\"✓ Data loaded successfully\")\n",
    "\n",
    "# Show what data we have\n",
    "probe = probes[0]\n",
    "print(f\"\\nData variables for MMS{probe}:\")\n",
    "for key in evt[probe].keys():\n",
    "    time, data = evt[probe][key]\n",
    "    print(f\"  {key}: {data.shape} ({len(time)} time points)\")"
   ]
  },
  {
   "cell_type": "markdown",
   "metadata": {},
   "source": [
    "## 3. Data Processing\n",
    "\n",
    "Process the data for boundary detection:"
   ]
  },
  {
   "cell_type": "code",
   "execution_count": null,
   "metadata": {},
   "outputs": [],
   "source": [
    "# Process MMS1 data\n",
    "probe = '1'\n",
    "d = evt[probe]\n",
    "\n",
    "# Resample to uniform grid\n",
    "t_grid, vars_grid, good = mms_mp.merge_vars({\n",
    "    'Ni': (d['N_tot'][0], d['N_tot'][1]),\n",
    "    'Ne': (d['N_e'][0], d['N_e'][1]),\n",
    "    'He': (d['N_he'][0], d['N_he'][1]),\n",
    "    'B': (d['B_gsm'][0], d['B_gsm'][1]),\n",
    "}, cadence=cadence, method='linear')\n",
    "\n",
    "print(f\"Resampled to {len(t_grid)} points at {cadence} cadence\")\n",
    "print(f\"Time range: {datetime.utcfromtimestamp(t_grid[0]):%H:%M:%S} to {datetime.utcfromtimestamp(t_grid[-1]):%H:%M:%S}\")"
   ]
  },
  {
   "cell_type": "markdown",
   "metadata": {},
   "source": [
    "## 4. Coordinate Transformation\n",
    "\n",
    "Transform to boundary-normal coordinates using the hybrid LMN method:"
   ]
  },
  {
   "cell_type": "code",
   "execution_count": null,
   "metadata": {},
   "outputs": [],
   "source": [
    "# LMN coordinate transformation\n",
    "from scipy.interpolate import interp1d\n",
    "\n",
    "# Use middle portion of magnetic field for MVA\n",
    "mid_idx = len(d['B_gsm'][0]) // 2\n",
    "B_slice = d['B_gsm'][1][mid_idx-64:mid_idx+64, :3]\n",
    "\n",
    "# Get spacecraft position at middle time\n",
    "t_mid = d['B_gsm'][0][mid_idx]\n",
    "interp_pos = interp1d(d['POS_gsm'][0], d['POS_gsm'][1],\n",
    "                     axis=0, bounds_error=False,\n",
    "                     fill_value='extrapolate')\n",
    "pos_mid = interp_pos(t_mid)\n",
    "\n",
    "# Hybrid LMN transformation\n",
    "lmn = mms_mp.hybrid_lmn(B_slice, pos_gsm_km=pos_mid)\n",
    "B_lmn = lmn.to_lmn(vars_grid['B'][:, :3])\n",
    "BN = B_lmn[:, 2]  # Normal component\n",
    "\n",
    "print(f\"LMN transformation complete\")\n",
    "print(f\"L direction: [{lmn.L[0]:.3f}, {lmn.L[1]:.3f}, {lmn.L[2]:.3f}]\")\n",
    "print(f\"M direction: [{lmn.M[0]:.3f}, {lmn.M[1]:.3f}, {lmn.M[2]:.3f}]\")\n",
    "print(f\"N direction: [{lmn.N[0]:.3f}, {lmn.N[1]:.3f}, {lmn.N[2]:.3f}]\")"
   ]
  },
  {
   "cell_type": "markdown",
   "metadata": {},
   "source": [
    "## 5. Boundary Detection\n",
    "\n",
    "Detect magnetopause crossings using He+ density and B_N rotation:"
   ]
  },
  {
   "cell_type": "code",
   "execution_count": null,
   "metadata": {},
   "outputs": [],
   "source": [
    "# Boundary detection\n",
    "cfg = mms_mp.DetectorCfg(he_in=0.25, he_out=0.15, BN_tol=1.0)\n",
    "mask_all = good['He'] & good['B']\n",
    "\n",
    "layers = mms_mp.detect_crossings_multi(\n",
    "    t_grid, vars_grid['He'], BN,\n",
    "    cfg=cfg, good_mask=mask_all\n",
    ")\n",
    "\n",
    "# Extract crossing times\n",
    "from mms_mp.boundary import extract_enter_exit\n",
    "xings = extract_enter_exit(layers, t_grid)\n",
    "\n",
    "if xings:\n",
    "    print(f\"✓ {len(xings)} boundary crossing(s) detected:\")\n",
    "    for i, (t_cross, cross_type) in enumerate(xings):\n",
    "        print(f\"  {i+1}. {cross_type} at {datetime.utcfromtimestamp(t_cross):%H:%M:%S}\")\n",
    "else:\n",
    "    print(\"No boundary crossings detected\")"
   ]
  },
  {
   "cell_type": "markdown",
   "metadata": {},
   "source": [
    "## 6. Visualization\n",
    "\n",
    "Create a summary plot showing the key parameters:"
   ]
  },
  {
   "cell_type": "code",
   "execution_count": null,
   "metadata": {},
   "outputs": [],
   "source": [
    "# Create time array for plotting (convert to hours from start)\n",
    "t_hours = (t_grid - t_grid[0]) / 3600\n",
    "\n",
    "# Create summary plot\n",
    "fig, axes = plt.subplots(4, 1, figsize=(12, 10), sharex=True)\n",
    "\n",
    "# Panel 1: Magnetic field components\n",
    "axes[0].plot(t_hours, B_lmn[:, 0], 'b-', label='B_L', linewidth=1)\n",
    "axes[0].plot(t_hours, B_lmn[:, 1], 'g-', label='B_M', linewidth=1)\n",
    "axes[0].plot(t_hours, B_lmn[:, 2], 'r-', label='B_N', linewidth=1)\n",
    "axes[0].set_ylabel('B [nT]')\n",
    "axes[0].legend()\n",
    "axes[0].grid(True, alpha=0.3)\n",
    "axes[0].set_title(f'MMS{probe} Magnetopause Analysis')\n",
    "\n",
    "# Panel 2: Ion densities\n",
    "axes[1].semilogy(t_hours, vars_grid['Ni'], 'b-', label='N_i', linewidth=1)\n",
    "axes[1].semilogy(t_hours, vars_grid['Ne'], 'r-', label='N_e', linewidth=1)\n",
    "axes[1].set_ylabel('Density [cm⁻³]')\n",
    "axes[1].legend()\n",
    "axes[1].grid(True, alpha=0.3)\n",
    "\n",
    "# Panel 3: He+ density with detection thresholds\n",
    "axes[2].plot(t_hours, vars_grid['He'], 'orange', linewidth=1.5, label='He⁺')\n",
    "axes[2].axhline(cfg.he_in, color='red', linestyle='--', alpha=0.7, label=f'In threshold ({cfg.he_in})')\n",
    "axes[2].axhline(cfg.he_out, color='blue', linestyle='--', alpha=0.7, label=f'Out threshold ({cfg.he_out})')\n",
    "axes[2].set_ylabel('He⁺ density [cm⁻³]')\n",
    "axes[2].legend()\n",
    "axes[2].grid(True, alpha=0.3)\n",
    "\n",
    "# Panel 4: B_N with crossing markers\n",
    "axes[3].plot(t_hours, BN, 'purple', linewidth=1.5)\n",
    "axes[3].axhline(0, color='black', linestyle='-', alpha=0.5)\n",
    "axes[3].set_ylabel('B_N [nT]')\n",
    "axes[3].set_xlabel('Time [hours from start]')\n",
    "axes[3].grid(True, alpha=0.3)\n",
    "\n",
    "# Mark crossings on all panels\n",
    "if xings:\n",
    "    for t_cross, cross_type in xings:\n",
    "        t_cross_hours = (t_cross - t_grid[0]) / 3600\n",
    "        color = 'red' if 'enter' in cross_type.lower() else 'blue'\n",
    "        for ax in axes:\n",
    "            ax.axvline(t_cross_hours, color=color, linestyle=':', alpha=0.8, linewidth=2)\n",
    "\n",
    "plt.tight_layout()\n",
    "plt.show()\n",
    "\n",
    "print(\"\\n📊 Plot shows:\")\n",
    "print(\"  • Magnetic field in LMN coordinates\")\n",
    "print(\"  • Ion and electron densities\")\n",
    "print(\"  • He⁺ density with detection thresholds\")\n",
    "print(\"  • B_N component with crossing markers\")\n",
    "print(\"  • Red lines: magnetosphere entry\")\n",
    "print(\"  • Blue lines: magnetosheath entry\")"
   ]
  },
  {
   "cell_type": "markdown",
   "metadata": {},
   "source": [
    "## Summary\n",
    "\n",
    "This notebook demonstrated the basic workflow of the MMS Magnetopause Analysis Toolkit:\n",
    "\n",
    "1. **Data Loading**: Automatic download and loading of MMS Level-2 data\n",
    "2. **Resampling**: Uniform time grid for multi-instrument analysis\n",
    "3. **Coordinates**: Hybrid LMN transformation combining MVA and model\n",
    "4. **Detection**: Multi-parameter boundary detection using He⁺ and B_N\n",
    "5. **Visualization**: Summary plots showing key parameters\n",
    "\n",
    "## Next Steps\n",
    "\n",
    "- Try `02_advanced_analysis.ipynb` for multi-spacecraft timing analysis\n",
    "- Experiment with different time ranges and detection parameters\n",
    "- Use the CLI for batch processing: `python -m mms_mp.cli --help`"
   ]
  }
 ],
 "metadata": {
  "kernelspec": {
   "display_name": "Python 3",
   "language": "python",
   "name": "python3"
  },
  "language_info": {
   "codemirror_mode": {
    "name": "ipython",
    "version": 3
   },
   "file_extension": ".py",
   "mimetype": "text/x-python",
   "name": "python",
   "nbconvert_exporter": "python",
   "pygments_lexer": "ipython3",
   "version": "3.8.0"
  }
 },
 "nbformat": 4,
 "nbformat_minor": 4
}
